{
 "cells": [
  {
   "attachments": {},
   "cell_type": "markdown",
   "metadata": {},
   "source": [
    "# Itinerary Generation\n",
    "\n",
    "The purpose of this notebook is to generate the course site's itinerary page and subpages based on `Schedule.ipynb`"
   ]
  },
  {
   "cell_type": "code",
   "execution_count": 1,
   "metadata": {},
   "outputs": [],
   "source": [
    "from datetime import date, timedelta\n",
    "from helpers import calendar_table"
   ]
  },
  {
   "cell_type": "code",
   "execution_count": 2,
   "metadata": {},
   "outputs": [],
   "source": [
    "SITE_DIR=\"../../../site\""
   ]
  },
  {
   "attachments": {},
   "cell_type": "markdown",
   "metadata": {},
   "source": []
  },
  {
   "cell_type": "code",
   "execution_count": 3,
   "metadata": {},
   "outputs": [
    {
     "name": "stdout",
     "output_type": "stream",
     "text": [
      "The autoreload extension is already loaded. To reload it, use:\n",
      "  %reload_ext autoreload\n",
      "Date,Weekday,Plan\n",
      "Week 0\n",
      "Jan-10,Wed,FDOC\n",
      ",,Day 00\n",
      "Jan-12,Fri,Day 01\n",
      "Week 1\n",
      "Jan-15,Mon,University Holiday\n",
      "Jan-17,Wed,Day 02\n",
      "Jan-19,Fri,Day 03\n",
      "Week 2\n",
      "Jan-22,Mon,Day 04\n",
      "Jan-24,Wed,Drop Period Ends\n",
      ",,Day 05\n",
      "Jan-26,Fri,Day 06\n",
      "Week 3\n",
      "Jan-29,Mon,Day 07\n",
      "Jan-31,Wed,Day 08\n",
      "Feb-02,Fri,Day 09\n",
      "Week 4\n",
      "Feb-05,Mon,Day 10\n",
      "Feb-07,Wed,Day 11\n",
      "Feb-09,Fri,Day 12\n",
      "Week 5\n",
      "Feb-12,Mon,University Holiday\n",
      "Feb-13,Tue,University Holiday\n",
      "Feb-14,Wed,Day 13\n",
      "Feb-16,Fri,Day 14\n",
      "Week 6\n",
      "Feb-19,Mon,Day 15\n",
      "Feb-21,Wed,Day 16\n",
      "Feb-23,Fri,Day 17\n",
      "Week 7\n",
      "Feb-26,Mon,Day 18\n",
      "Feb-28,Wed,Day 19\n",
      "Mar-01,Fri,Day 20\n",
      "Week 8\n",
      "Mar-04,Mon,Day 21\n",
      "Mar-06,Wed,Day 22\n",
      "Mar-08,Fri,Widthdraw Period Ends\n",
      ",,Day 23\n",
      "Week 9\n",
      "Mar-11,Mon,University Holiday\n",
      "Mar-12,Tue,University Holiday\n",
      "Mar-13,Wed,University Holiday\n",
      "Mar-14,Thu,University Holiday\n",
      "Mar-15,Fri,University Holiday\n",
      "Week 10\n",
      "Mar-18,Mon,Day 24\n",
      "Mar-20,Wed,Day 25\n",
      "Mar-22,Fri,Day 26\n",
      "Week 11\n",
      "Mar-25,Mon,Day 27\n",
      "Mar-27,Wed,Day 28\n",
      "Mar-28,Thu,University Holiday\n",
      "Mar-29,Fri,University Holiday\n",
      "Week 12\n",
      "Apr-01,Mon,Day 29\n",
      "Apr-03,Wed,Day 30\n",
      "Apr-05,Fri,Day 31\n",
      "Week 13\n",
      "Apr-08,Mon,Day 32\n",
      "Apr-10,Wed,Day 33\n",
      "Apr-12,Fri,Day 34\n",
      "Week 14\n",
      "Apr-15,Mon,Day 35\n",
      "Apr-17,Wed,Day 36\n",
      "Apr-19,Fri,Day 37\n",
      "Week 15\n",
      "Apr-22,Mon,Day 38\n",
      "Apr-24,Wed,Day 39\n",
      "Apr-26,Fri,Day 40\n",
      "Week 16\n",
      "Apr-29,Mon,Day 41\n",
      "Apr-30,Tue,LDOC\n",
      "May-03,Fri,Final @ 8:00AM\n"
     ]
    }
   ],
   "source": [
    "%reload_ext autoreload\n",
    "%run Schedule.ipynb"
   ]
  },
  {
   "attachments": {},
   "cell_type": "markdown",
   "metadata": {},
   "source": [
    "We're going to curate what is in the full syllabus based on what we want to expose to students."
   ]
  },
  {
   "cell_type": "code",
   "execution_count": 4,
   "metadata": {},
   "outputs": [
    {
     "data": {
      "text/html": [
       "<table>\n",
       "<tbody>\n",
       "<tr><td>Date   </td><td>Weekday</td><td>Plan                                              </td></tr>\n",
       "<tr><td>Week 0 </td><td>       </td><td>                                                  </td></tr>\n",
       "<tr><td>Jan-10 </td><td>Wed    </td><td>Welcome to COMP110 - An Intro to the Class        </td></tr>\n",
       "<tr><td>       </td><td>       </td><td>Out: Syllabus and Support                         </td></tr>\n",
       "<tr><td>       </td><td>       </td><td>Due: Syllabus and Support                         </td></tr>\n",
       "<tr><td>Jan-12 </td><td>Fri    </td><td>Out: Hello World                                  </td></tr>\n",
       "<tr><td>       </td><td>       </td><td>An Introduction to Coding + VS Code Tutorial      </td></tr>\n",
       "<tr><td>       </td><td>       </td><td>Out: Visual Studio: Running Code                  </td></tr>\n",
       "<tr><td>Week 1 </td><td>       </td><td>                                                  </td></tr>\n",
       "<tr><td>Jan-15 </td><td>Mon    </td><td>Due: Visual Studio: Running Code                  </td></tr>\n",
       "<tr><td>Jan-17 </td><td>Wed    </td><td>Variables, Expressions, and User Input            </td></tr>\n",
       "<tr><td>       </td><td>       </td><td>Out: Objects and Types                            </td></tr>\n",
       "<tr><td>       </td><td>       </td><td>Out: Expressions                                  </td></tr>\n",
       "<tr><td>       </td><td>       </td><td>Out: Variables and User Input                     </td></tr>\n",
       "<tr><td>Jan-18 </td><td>Thu    </td><td>Due: Hello World                                  </td></tr>\n",
       "<tr><td>Jan-19 </td><td>Fri    </td><td>Out: Simple Battleship                            </td></tr>\n",
       "<tr><td>       </td><td>       </td><td>Out: Virtual Lesson 00                            </td></tr>\n",
       "<tr><td>       </td><td>       </td><td>Due: Objects and Types                            </td></tr>\n",
       "<tr><td>       </td><td>       </td><td>Due: Expressions                                  </td></tr>\n",
       "<tr><td>       </td><td>       </td><td>Due: Variables and User Input                     </td></tr>\n",
       "<tr><td>       </td><td>       </td><td>Due: Virtual Lesson 00                            </td></tr>\n",
       "<tr><td>Week 2 </td><td>       </td><td>                                                  </td></tr>\n",
       "<tr><td>Jan-22 </td><td>Mon    </td><td>Out: Virtual Lesson 01                            </td></tr>\n",
       "<tr><td>       </td><td>       </td><td>Out: Practice Memory Diagram                      </td></tr>\n",
       "<tr><td>       </td><td>       </td><td>Out: Practice Memory Diagram with Conditionals    </td></tr>\n",
       "<tr><td>       </td><td>       </td><td>Due: Practice Memory Diagram                      </td></tr>\n",
       "<tr><td>       </td><td>       </td><td>Due: Practice Memory Diagram with Conditionals    </td></tr>\n",
       "<tr><td>Jan-23 </td><td>Tue    </td><td>Due: Virtual Lesson 01                            </td></tr>\n",
       "<tr><td>Jan-24 </td><td>Wed    </td><td>Practice with Memory Diagrams and Conditionals    </td></tr>\n",
       "<tr><td>Jan-26 </td><td>Fri    </td><td>Out: Quiz 0                                       </td></tr>\n",
       "<tr><td>       </td><td>       </td><td>Due: Quiz 0                                       </td></tr>\n",
       "<tr><td>Week 3 </td><td>       </td><td>                                                  </td></tr>\n",
       "<tr><td>Jan-29 </td><td>Mon    </td><td>Out: Virtual Lesson                               </td></tr>\n",
       "<tr><td>Jan-30 </td><td>Tue    </td><td>Due: Simple Battleship                            </td></tr>\n",
       "<tr><td>       </td><td>       </td><td>Due: Virtual Lesson                               </td></tr>\n",
       "<tr><td>Jan-31 </td><td>Wed    </td><td>Practice with while Loops                         </td></tr>\n",
       "<tr><td>       </td><td>       </td><td>Out: One-shot Battleship                          </td></tr>\n",
       "<tr><td>Feb-02 </td><td>Fri    </td><td>while Loops + Debugger                            </td></tr>\n",
       "<tr><td>       </td><td>       </td><td>Out: while Loops + Debugger                       </td></tr>\n",
       "<tr><td>       </td><td>       </td><td>Out: Reading: The Ethical Algorithm               </td></tr>\n",
       "<tr><td>Week 4 </td><td>       </td><td>                                                  </td></tr>\n",
       "<tr><td>Feb-05 </td><td>Mon    </td><td>Out: Virtual Lesson                               </td></tr>\n",
       "<tr><td>Feb-06 </td><td>Tue    </td><td>Due: One-shot Battleship                          </td></tr>\n",
       "<tr><td>       </td><td>       </td><td>Due: while Loops + Debugger                       </td></tr>\n",
       "<tr><td>       </td><td>       </td><td>Due: Virtual Lesson                               </td></tr>\n",
       "<tr><td>Feb-07 </td><td>Wed    </td><td>Practice With Functions                           </td></tr>\n",
       "<tr><td>       </td><td>       </td><td>Out: Functional Battleship                        </td></tr>\n",
       "<tr><td>Feb-09 </td><td>Fri    </td><td>Out: Quiz 1                                       </td></tr>\n",
       "<tr><td>       </td><td>       </td><td>Due: Quiz 1                                       </td></tr>\n",
       "<tr><td>Week 5 </td><td>       </td><td>                                                  </td></tr>\n",
       "<tr><td>Feb-13 </td><td>Tue    </td><td>Due: Functional Battleship                        </td></tr>\n",
       "<tr><td>Feb-14 </td><td>Wed    </td><td>Lists                                             </td></tr>\n",
       "<tr><td>       </td><td>       </td><td>Out: Lists                                        </td></tr>\n",
       "<tr><td>Feb-15 </td><td>Thu    </td><td>Due: Lists                                        </td></tr>\n",
       "<tr><td>Feb-16 </td><td>Fri    </td><td>Lists Practice                                    </td></tr>\n",
       "<tr><td>       </td><td>       </td><td>Out: Lists + Functions                            </td></tr>\n",
       "<tr><td>       </td><td>       </td><td>Due: Lists + Functions                            </td></tr>\n",
       "<tr><td>Week 6 </td><td>       </td><td>                                                  </td></tr>\n",
       "<tr><td>Feb-19 </td><td>Mon    </td><td>Out: Virtual Lesson                               </td></tr>\n",
       "<tr><td>       </td><td>       </td><td>Out: List Utils                                   </td></tr>\n",
       "<tr><td>Feb-20 </td><td>Tue    </td><td>Due: Virtual Lesson                               </td></tr>\n",
       "<tr><td>Feb-21 </td><td>Wed    </td><td>for loops                                         </td></tr>\n",
       "<tr><td>Feb-22 </td><td>Thu    </td><td>Due: Reading: The Ethical Algorithm               </td></tr>\n",
       "<tr><td>Feb-23 </td><td>Fri    </td><td>for ... in range(...) loops                       </td></tr>\n",
       "<tr><td>       </td><td>       </td><td>Out: For Loops                                    </td></tr>\n",
       "<tr><td>       </td><td>       </td><td>Out: Weapons of Math Destruction                  </td></tr>\n",
       "<tr><td>       </td><td>       </td><td>Due: For Loops                                    </td></tr>\n",
       "<tr><td>Week 7 </td><td>       </td><td>                                                  </td></tr>\n",
       "<tr><td>Feb-26 </td><td>Mon    </td><td>Out: Virtual Lesson                               </td></tr>\n",
       "<tr><td>Feb-27 </td><td>Tue    </td><td>Due: List Utils                                   </td></tr>\n",
       "<tr><td>       </td><td>       </td><td>Due: Virtual Lesson                               </td></tr>\n",
       "<tr><td>Feb-28 </td><td>Wed    </td><td>Dictionaries + for loops                          </td></tr>\n",
       "<tr><td>       </td><td>       </td><td>Out: Dictionaries + for Loops                     </td></tr>\n",
       "<tr><td>       </td><td>       </td><td>Out: Dictionary Utils                             </td></tr>\n",
       "<tr><td>Mar-01 </td><td>Fri    </td><td>Out: Quiz 2                                       </td></tr>\n",
       "<tr><td>       </td><td>       </td><td>Due: Quiz 2                                       </td></tr>\n",
       "<tr><td>Mar-03 </td><td>Sun    </td><td>Due: Dictionaries + for Loops                     </td></tr>\n",
       "<tr><td>Week 8 </td><td>       </td><td>                                                  </td></tr>\n",
       "<tr><td>Mar-04 </td><td>Mon    </td><td>Out: Virtual Lesson                               </td></tr>\n",
       "<tr><td>Mar-05 </td><td>Tue    </td><td>Due: Dictionary Utils                             </td></tr>\n",
       "<tr><td>       </td><td>       </td><td>Due: Virtual Lesson                               </td></tr>\n",
       "<tr><td>Mar-06 </td><td>Wed    </td><td>Practice Writing Functions                        </td></tr>\n",
       "<tr><td>       </td><td>       </td><td>Out: Dictionary Unit Tests                        </td></tr>\n",
       "<tr><td>Mar-08 </td><td>Fri    </td><td>Out: Dictionary Unit Tests Practice               </td></tr>\n",
       "<tr><td>       </td><td>       </td><td>Due: Dictionary Unit Tests Practice               </td></tr>\n",
       "<tr><td>Week 9 </td><td>       </td><td>                                                  </td></tr>\n",
       "<tr><td>Mar-14 </td><td>Thu    </td><td>Due: Weapons of Math Destruction                  </td></tr>\n",
       "<tr><td>Week 10</td><td>       </td><td>                                                  </td></tr>\n",
       "<tr><td>Mar-18 </td><td>Mon    </td><td>Out: Virtual Lesson 07                            </td></tr>\n",
       "<tr><td>Mar-19 </td><td>Tue    </td><td>Due: Virtual Lesson 07                            </td></tr>\n",
       "<tr><td>Mar-20 </td><td>Wed    </td><td>Big-O Notation                                    </td></tr>\n",
       "<tr><td>Mar-21 </td><td>Thu    </td><td>Due: Dictionary Unit Tests                        </td></tr>\n",
       "<tr><td>Mar-22 </td><td>Fri    </td><td>More on Big-O Notation + Search Algorithms        </td></tr>\n",
       "<tr><td>       </td><td>       </td><td>Out: Runtime Analysis                             </td></tr>\n",
       "<tr><td>       </td><td>       </td><td>Out: Reading: Man versus Machine or Man + Machine?</td></tr>\n",
       "<tr><td>Week 11</td><td>       </td><td>                                                  </td></tr>\n",
       "<tr><td>Mar-27 </td><td>Wed    </td><td>Out: Quiz 3                                       </td></tr>\n",
       "<tr><td>       </td><td>       </td><td>Due: Quiz 3                                       </td></tr>\n",
       "<tr><td>Mar-31 </td><td>Sun    </td><td>Due: Runtime Analysis                             </td></tr>\n",
       "<tr><td>Week 12</td><td>       </td><td>                                                  </td></tr>\n",
       "<tr><td>Apr-01 </td><td>Mon    </td><td>Out: Recursive Turtle                             </td></tr>\n",
       "<tr><td>Week 13</td><td>       </td><td>                                                  </td></tr>\n",
       "<tr><td>Apr-09 </td><td>Tue    </td><td>Due: Recursive Turtle                             </td></tr>\n",
       "<tr><td>Apr-10 </td><td>Wed    </td><td>Out: River Simulation                             </td></tr>\n",
       "<tr><td>Apr-11 </td><td>Thu    </td><td>Due: Reading: Man versus Machine or Man + Machine?</td></tr>\n",
       "<tr><td>Week 14</td><td>       </td><td>                                                  </td></tr>\n",
       "<tr><td>Apr-19 </td><td>Fri    </td><td>Out: Quiz 4                                       </td></tr>\n",
       "<tr><td>       </td><td>       </td><td>Due: Quiz 4                                       </td></tr>\n",
       "<tr><td>Week 15</td><td>       </td><td>                                                  </td></tr>\n",
       "<tr><td>Apr-23 </td><td>Tue    </td><td>Due: River Simulation                             </td></tr>\n",
       "<tr><td>Apr-24 </td><td>Wed    </td><td>Out: Linked Lists                                 </td></tr>\n",
       "<tr><td>Week 16</td><td>       </td><td>                                                  </td></tr>\n",
       "<tr><td>Apr-30 </td><td>Tue    </td><td>Due: Linked Lists                                 </td></tr>\n",
       "<tr><td>May-03 </td><td>Fri    </td><td>Final @ 8:00AM                                    </td></tr>\n",
       "</tbody>\n",
       "</table>"
      ],
      "text/plain": [
       "<IPython.core.display.HTML object>"
      ]
     },
     "execution_count": 4,
     "metadata": {},
     "output_type": "execute_result"
    }
   ],
   "source": [
    "today = date.today() - timedelta(2)  # Hack to keep the past three days in range for now, need to rewrite for deadlines\n",
    "\n",
    "def keep(plan):\n",
    "    # Don't show \"Class\" or \"Milestone\"\n",
    "    if plan.kind == Kind.MS or plan.kind == Kind.DK or plan.kind == Kind.NA:\n",
    "        return False\n",
    "    elif plan.kind == Kind.WD and plan.date - today > timedelta(6):\n",
    "        # Filter holidays out in the far future, but keep nearby ones in for\n",
    "        # positive vibes and unrelenting optimism.\n",
    "        return False\n",
    "    elif (plan.kind == Kind.CL or plan.kind == Kind.RV) and len(plan.links) == 0:\n",
    "        return False\n",
    "    elif plan.kind != Kind.QZ and plan.kind != Kind.EX and plan.kind != Kind.RD and plan.kind != Kind.FN and plan.date - today > timedelta(6):\n",
    "        return False\n",
    "    else:\n",
    "        return True\n",
    "\n",
    "for day in syllabus:\n",
    "    remove = []\n",
    "    syllabus[day] = [plan for plan in syllabus[day] if keep(plan)]\n",
    "\n",
    "show_calendar(syllabus)"
   ]
  },
  {
   "cell_type": "code",
   "execution_count": 5,
   "metadata": {},
   "outputs": [],
   "source": [
    "# Segment out future vs past\n",
    "future = {}\n",
    "past = {}\n",
    "for day in syllabus:\n",
    "    if day < today:\n",
    "        past[day] = syllabus[day]\n",
    "    else:\n",
    "        future[day] = syllabus[day]"
   ]
  },
  {
   "attachments": {},
   "cell_type": "markdown",
   "metadata": {},
   "source": [
    "Similar to itinerary generation, we will auto-generate the 'On the Horizon' box. First, let's curate what is in the box:"
   ]
  },
  {
   "cell_type": "code",
   "execution_count": 6,
   "metadata": {},
   "outputs": [],
   "source": [
    "from helpers import horizonize\n",
    "\n",
    "horizon_syl = horizonize(syllabus_copy)\n",
    "horizon_syl = [plan for plan in horizon_syl if plan.kind in {Kind.EX, Kind.QZ, Kind.RD, Kind.HW, Kind.FN, Kind.LS, Kind.PJ, Kind.CQ, Kind.VL}]"
   ]
  },
  {
   "attachments": {},
   "cell_type": "markdown",
   "metadata": {},
   "source": [
    "Stripping data to only near future quizzes and due dates"
   ]
  },
  {
   "cell_type": "code",
   "execution_count": 7,
   "metadata": {},
   "outputs": [
    {
     "name": "stdout",
     "output_type": "stream",
     "text": [
      "[<helpers.HorizonPlan object at 0x10686b190>, <helpers.HorizonPlan object at 0x10686b010>]\n"
     ]
    }
   ],
   "source": [
    "horizoninfo = []\n",
    "today = date.today()\n",
    "\n",
    "for plan in horizon_syl:\n",
    "    if plan.date > (today - timedelta(1)) and plan.date < (today + timedelta(8)):\n",
    "        horizoninfo.append(plan)\n",
    "\n",
    "print(horizoninfo)"
   ]
  },
  {
   "cell_type": "code",
   "execution_count": null,
   "metadata": {},
   "outputs": [],
   "source": []
  },
  {
   "attachments": {},
   "cell_type": "markdown",
   "metadata": {},
   "source": [
    "Working to add deadline in titles of assignments where assignment date != due date"
   ]
  },
  {
   "cell_type": "code",
   "execution_count": 8,
   "metadata": {},
   "outputs": [],
   "source": [
    "import calendar\n",
    "syllabus: dict[date, list[Plan]]\n",
    "for day in syllabus:\n",
    "    for plan in syllabus[day]: \n",
    "        if plan.deadline != plan.extension:\n",
    "            newdate = plan.extension.strftime(\"%-m/%-d\")\n",
    "            date = plan.deadline.strftime(\"%-m/%-d\")\n",
    "            plan.title += f\"<s><i>(Due {calendar.day_name[plan.deadline.weekday()]} {date})</i></s>\" \n",
    "            plan.title += f\" (Extended to {calendar.day_name[plan.extension.weekday()]} {newdate})\" \n",
    "        elif (plan.deadline != None) and (plan.kind != Kind.QZ): \n",
    "            date = plan.deadline.strftime(\"%-m/%-d\")\n",
    "            plan.title += f\" (Due {calendar.day_name[plan.deadline.weekday()]} {date})\" "
   ]
  },
  {
   "attachments": {},
   "cell_type": "markdown",
   "metadata": {},
   "source": [
    "And now (finally), we generate the itinerary and horizon box."
   ]
  },
  {
   "cell_type": "code",
   "execution_count": 9,
   "metadata": {},
   "outputs": [],
   "source": [
    "from jinja2 import Environment, FileSystemLoader, select_autoescape\n",
    "from helpers import serialize, serialize_plan\n",
    "import re\n",
    "import json \n",
    "from datetime import date\n",
    "env = Environment(\n",
    "    loader=FileSystemLoader(SITE_DIR),\n",
    "    autoescape=select_autoescape([\"html\", \"xml\"]),\n",
    "    trim_blocks=True,\n",
    "    lstrip_blocks=True\n",
    ")\n",
    "template = env.get_template(\"./index.jinja2\")\n",
    "with open(f\"{SITE_DIR}/index.md\", \"w\", encoding=\"utf8\") as target:\n",
    "    result = template.render(syllabus=syllabus, horizon_syl=horizon_syl, future=future, horizoninfo=horizoninfo, past=past, cache=date.today())\n",
    "    # We strip the double spaces because pandoc can't handle HTML well :(\n",
    "    stripped = re.sub(r' {2,}', '', result)\n",
    "    target.write(stripped)\n",
    "serializable_syllabus = serialize(syllabus) \n",
    "future_syllabus = serialize(future)  \n",
    "past_syllabus = serialize(past)   \n",
    "json_syllabus = json.dumps(serializable_syllabus, indent = 4)   \n",
    "json_future = json.dumps(future_syllabus, indent = 4)\n",
    "json_past = json.dumps(past_syllabus, indent = 4)\n",
    "f = open(f\"{SITE_DIR}/static/components/Itinerary/data.json\", \"w\")\n",
    "f.write(json_syllabus)\n",
    "f.close()\n",
    "f = open(f\"{SITE_DIR}/static/components/Itinerary/future.json\", \"w\")\n",
    "f.write(json_future)\n",
    "f.close()\n",
    "f = open(f\"{SITE_DIR}/static/components/Itinerary/past.json\", \"w\")\n",
    "f.write(json_past)\n",
    "f.close()"
   ]
  }
 ],
 "metadata": {
  "kernelspec": {
   "display_name": "Python 3.10.5 64-bit",
   "language": "python",
   "name": "python3"
  },
  "language_info": {
   "codemirror_mode": {
    "name": "ipython",
    "version": 3
   },
   "file_extension": ".py",
   "mimetype": "text/x-python",
   "name": "python",
   "nbconvert_exporter": "python",
   "pygments_lexer": "ipython3",
   "version": "3.11.1"
  },
  "orig_nbformat": 3,
  "vscode": {
   "interpreter": {
    "hash": "aee8b7b246df8f9039afb4144a1f6fd8d2ca17a180786b69acc140d282b71a49"
   }
  }
 },
 "nbformat": 4,
 "nbformat_minor": 2
}
